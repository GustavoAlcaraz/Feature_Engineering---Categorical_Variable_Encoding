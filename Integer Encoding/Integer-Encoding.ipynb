{
 "cells": [
  {
   "cell_type": "markdown",
   "metadata": {},
   "source": [
    "## Integer Encoding\n",
    "\n",
    "Integer encoding consist in replacing the categories by digits from 1 to n (or 0 to n-1, depending the implementation), where n is the number of distinct categories of the variable.\n",
    "\n",
    "The numbers are assigned arbitrarily. This encoding method allows for quick benchmarking of machine learning models. \n",
    "\n",
    "\n",
    "### Advantages\n",
    "\n",
    "- Straightforward to implement\n",
    "- Does not expand the feature space\n",
    "\n",
    "\n",
    "### Limitations\n",
    "\n",
    "- Does not capture any information about the categories labels\n",
    "- Not suitable for linear models.\n",
    "\n",
    "Integer encoding is better suited for non-linear methods which are able to navigate through the arbitrarily assigned digits to try and find patters that relate them to the target.\n",
    "\n",
    "\n",
    "## In this demo:\n",
    "\n",
    "We will see how to perform one hot encoding with:\n",
    "\n",
    "- Feature-Engine\n",
    "\n",
    "the exercise is based on the training notes:\n",
    "Feature Engineering for Machine Learning\n",
    "by Soledad Galli\n"
   ]
  },
  {
   "cell_type": "code",
   "execution_count": 1,
   "metadata": {},
   "outputs": [],
   "source": [
    "import numpy as np\n",
    "import pandas as pd\n",
    "\n",
    "# to split the datasets\n",
    "from sklearn.model_selection import train_test_split\n",
    "\n",
    "\n",
    "# for integer encoding using feature-engine\n",
    "from feature_engine.categorical_encoders import OrdinalCategoricalEncoder"
   ]
  },
  {
   "cell_type": "markdown",
   "metadata": {},
   "source": [
    "# Dataset\n",
    "This data approach student achievement in secondary education of two Portuguese schools. \n",
    "The data attributes include student grades, demographic, social and school related features) \n",
    "and it was collected by using school reports and questionnaires.\n",
    "the target, G3 is the final year grade (issued at the 3rd period)\n"
   ]
  },
  {
   "cell_type": "code",
   "execution_count": 2,
   "metadata": {},
   "outputs": [],
   "source": [
    "columns = [ 'Mjob', 'Fjob', 'reason', 'guardian', 'schoolsup', 'famsup', 'paid', 'activities',\n",
    "             'Dalc', 'Walc' , 'health', 'G3']\n",
    "data_raw = pd.read_csv('C:\\\\Users\\gusal\\machine learning\\Feature engineering\\student-por.csv', delimiter= ';' ,usecols = columns)"
   ]
  },
  {
   "cell_type": "code",
   "execution_count": 3,
   "metadata": {},
   "outputs": [
    {
     "data": {
      "text/html": [
       "<div>\n",
       "<style scoped>\n",
       "    .dataframe tbody tr th:only-of-type {\n",
       "        vertical-align: middle;\n",
       "    }\n",
       "\n",
       "    .dataframe tbody tr th {\n",
       "        vertical-align: top;\n",
       "    }\n",
       "\n",
       "    .dataframe thead th {\n",
       "        text-align: right;\n",
       "    }\n",
       "</style>\n",
       "<table border=\"1\" class=\"dataframe\">\n",
       "  <thead>\n",
       "    <tr style=\"text-align: right;\">\n",
       "      <th></th>\n",
       "      <th>Mjob</th>\n",
       "      <th>Fjob</th>\n",
       "      <th>reason</th>\n",
       "      <th>guardian</th>\n",
       "      <th>schoolsup</th>\n",
       "      <th>famsup</th>\n",
       "      <th>paid</th>\n",
       "      <th>activities</th>\n",
       "      <th>Dalc</th>\n",
       "      <th>Walc</th>\n",
       "      <th>health</th>\n",
       "      <th>G3</th>\n",
       "    </tr>\n",
       "  </thead>\n",
       "  <tbody>\n",
       "    <tr>\n",
       "      <th>0</th>\n",
       "      <td>at_home</td>\n",
       "      <td>teacher</td>\n",
       "      <td>course</td>\n",
       "      <td>mother</td>\n",
       "      <td>yes</td>\n",
       "      <td>no</td>\n",
       "      <td>no</td>\n",
       "      <td>no</td>\n",
       "      <td>1</td>\n",
       "      <td>1</td>\n",
       "      <td>3</td>\n",
       "      <td>11</td>\n",
       "    </tr>\n",
       "    <tr>\n",
       "      <th>1</th>\n",
       "      <td>at_home</td>\n",
       "      <td>other</td>\n",
       "      <td>course</td>\n",
       "      <td>father</td>\n",
       "      <td>no</td>\n",
       "      <td>yes</td>\n",
       "      <td>no</td>\n",
       "      <td>no</td>\n",
       "      <td>1</td>\n",
       "      <td>1</td>\n",
       "      <td>3</td>\n",
       "      <td>11</td>\n",
       "    </tr>\n",
       "    <tr>\n",
       "      <th>2</th>\n",
       "      <td>at_home</td>\n",
       "      <td>other</td>\n",
       "      <td>other</td>\n",
       "      <td>mother</td>\n",
       "      <td>yes</td>\n",
       "      <td>no</td>\n",
       "      <td>no</td>\n",
       "      <td>no</td>\n",
       "      <td>2</td>\n",
       "      <td>3</td>\n",
       "      <td>3</td>\n",
       "      <td>12</td>\n",
       "    </tr>\n",
       "    <tr>\n",
       "      <th>3</th>\n",
       "      <td>health</td>\n",
       "      <td>services</td>\n",
       "      <td>home</td>\n",
       "      <td>mother</td>\n",
       "      <td>no</td>\n",
       "      <td>yes</td>\n",
       "      <td>no</td>\n",
       "      <td>yes</td>\n",
       "      <td>1</td>\n",
       "      <td>1</td>\n",
       "      <td>5</td>\n",
       "      <td>14</td>\n",
       "    </tr>\n",
       "    <tr>\n",
       "      <th>4</th>\n",
       "      <td>other</td>\n",
       "      <td>other</td>\n",
       "      <td>home</td>\n",
       "      <td>father</td>\n",
       "      <td>no</td>\n",
       "      <td>yes</td>\n",
       "      <td>no</td>\n",
       "      <td>no</td>\n",
       "      <td>1</td>\n",
       "      <td>2</td>\n",
       "      <td>5</td>\n",
       "      <td>13</td>\n",
       "    </tr>\n",
       "  </tbody>\n",
       "</table>\n",
       "</div>"
      ],
      "text/plain": [
       "      Mjob      Fjob  reason guardian schoolsup famsup paid activities  Dalc  \\\n",
       "0  at_home   teacher  course   mother       yes     no   no         no     1   \n",
       "1  at_home     other  course   father        no    yes   no         no     1   \n",
       "2  at_home     other   other   mother       yes     no   no         no     2   \n",
       "3   health  services    home   mother        no    yes   no        yes     1   \n",
       "4    other     other    home   father        no    yes   no         no     1   \n",
       "\n",
       "   Walc  health  G3  \n",
       "0     1       3  11  \n",
       "1     1       3  11  \n",
       "2     3       3  12  \n",
       "3     1       5  14  \n",
       "4     2       5  13  "
      ]
     },
     "execution_count": 3,
     "metadata": {},
     "output_type": "execute_result"
    }
   ],
   "source": [
    "data_raw.head(5)"
   ]
  },
  {
   "cell_type": "code",
   "execution_count": 4,
   "metadata": {
    "collapsed": true
   },
   "outputs": [
    {
     "data": {
      "text/plain": [
       "Mjob          object\n",
       "Fjob          object\n",
       "reason        object\n",
       "guardian      object\n",
       "schoolsup     object\n",
       "famsup        object\n",
       "paid          object\n",
       "activities    object\n",
       "Dalc           int64\n",
       "Walc           int64\n",
       "health         int64\n",
       "G3             int64\n",
       "dtype: object"
      ]
     },
     "execution_count": 4,
     "metadata": {},
     "output_type": "execute_result"
    }
   ],
   "source": [
    "data_raw.dtypes"
   ]
  },
  {
   "cell_type": "markdown",
   "metadata": {},
   "source": [
    "'Dalc', 'Walc' , 'health' are categorical variables, but are taken as numerical, therefore they have to be re-cast"
   ]
  },
  {
   "cell_type": "code",
   "execution_count": 5,
   "metadata": {},
   "outputs": [],
   "source": [
    "data_raw.Dalc = data_raw.Dalc.astype(object)\n",
    "data_raw.Walc = data_raw.Walc.astype(object)\n",
    "data_raw.health = data_raw.health.astype(object)\n"
   ]
  },
  {
   "cell_type": "code",
   "execution_count": 6,
   "metadata": {
    "collapsed": true
   },
   "outputs": [
    {
     "data": {
      "text/plain": [
       "Mjob          object\n",
       "Fjob          object\n",
       "reason        object\n",
       "guardian      object\n",
       "schoolsup     object\n",
       "famsup        object\n",
       "paid          object\n",
       "activities    object\n",
       "Dalc          object\n",
       "Walc          object\n",
       "health        object\n",
       "G3             int64\n",
       "dtype: object"
      ]
     },
     "execution_count": 6,
     "metadata": {},
     "output_type": "execute_result"
    }
   ],
   "source": [
    "data_raw.dtypes"
   ]
  },
  {
   "cell_type": "code",
   "execution_count": 7,
   "metadata": {
    "collapsed": true
   },
   "outputs": [
    {
     "name": "stdout",
     "output_type": "stream",
     "text": [
      "Mjob :  5  labels\n",
      "Fjob :  5  labels\n",
      "reason :  4  labels\n",
      "guardian :  3  labels\n",
      "schoolsup :  2  labels\n",
      "famsup :  2  labels\n",
      "paid :  2  labels\n",
      "activities :  2  labels\n",
      "Dalc :  5  labels\n",
      "Walc :  5  labels\n",
      "health :  5  labels\n",
      "G3 :  17  labels\n"
     ]
    }
   ],
   "source": [
    "# let's have a look at how many labels each variable has\n",
    "\n",
    "for col in data_raw.columns:\n",
    "    print(col, ': ', len(data_raw[col].unique()), ' labels')"
   ]
  },
  {
   "cell_type": "markdown",
   "metadata": {},
   "source": [
    "# Counting the items per each label"
   ]
  },
  {
   "cell_type": "code",
   "execution_count": 8,
   "metadata": {},
   "outputs": [],
   "source": [
    "inputs = data_raw.drop(['G3'], axis = 1)\n",
    "target = data_raw.G3"
   ]
  },
  {
   "cell_type": "code",
   "execution_count": 9,
   "metadata": {
    "collapsed": true
   },
   "outputs": [
    {
     "name": "stdout",
     "output_type": "stream",
     "text": [
      "Mjob :\n",
      "  other       258\n",
      "services    136\n",
      "at_home     135\n",
      "teacher      72\n",
      "health       48\n",
      "Name: Mjob, dtype: int64 \n",
      " \n",
      "Fjob :\n",
      "  other       367\n",
      "services    181\n",
      "at_home      42\n",
      "teacher      36\n",
      "health       23\n",
      "Name: Fjob, dtype: int64 \n",
      " \n",
      "reason :\n",
      "  course        285\n",
      "home          149\n",
      "reputation    143\n",
      "other          72\n",
      "Name: reason, dtype: int64 \n",
      " \n",
      "guardian :\n",
      "  mother    455\n",
      "father    153\n",
      "other      41\n",
      "Name: guardian, dtype: int64 \n",
      " \n",
      "schoolsup :\n",
      "  no     581\n",
      "yes     68\n",
      "Name: schoolsup, dtype: int64 \n",
      " \n",
      "famsup :\n",
      "  yes    398\n",
      "no     251\n",
      "Name: famsup, dtype: int64 \n",
      " \n",
      "paid :\n",
      "  no     610\n",
      "yes     39\n",
      "Name: paid, dtype: int64 \n",
      " \n",
      "activities :\n",
      "  no     334\n",
      "yes    315\n",
      "Name: activities, dtype: int64 \n",
      " \n",
      "Dalc :\n",
      "  1    451\n",
      "2    121\n",
      "3     43\n",
      "4     17\n",
      "5     17\n",
      "Name: Dalc, dtype: int64 \n",
      " \n",
      "Walc :\n",
      "  1    247\n",
      "2    150\n",
      "3    120\n",
      "4     87\n",
      "5     45\n",
      "Name: Walc, dtype: int64 \n",
      " \n",
      "health :\n",
      "  5    249\n",
      "3    124\n",
      "4    108\n",
      "1     90\n",
      "2     78\n",
      "Name: health, dtype: int64 \n",
      " \n"
     ]
    }
   ],
   "source": [
    "\n",
    "for col in inputs.columns:\n",
    "    print(col, ':\\n ', inputs[col].value_counts().sort_values(ascending=False),'\\n ')"
   ]
  },
  {
   "cell_type": "code",
   "execution_count": 10,
   "metadata": {},
   "outputs": [
    {
     "data": {
      "text/plain": [
       "((454, 11), (195, 11))"
      ]
     },
     "execution_count": 10,
     "metadata": {},
     "output_type": "execute_result"
    }
   ],
   "source": [
    "# let's separate into training and testing set\n",
    "\n",
    "X_train, X_test, y_train, y_test = train_test_split(\n",
    "    inputs,  # predictors\n",
    "    target,  # target\n",
    "    test_size=0.3,  # percentage of obs in test set\n",
    "    random_state=0)  # seed to ensure reproducibility\n",
    "\n",
    "X_train.shape, X_test.shape"
   ]
  },
  {
   "cell_type": "markdown",
   "metadata": {},
   "source": [
    "### Encoding important\n",
    "\n",
    "We select which digit to assign to each category using the train set, and then use those mappings in the test set."
   ]
  },
  {
   "cell_type": "markdown",
   "metadata": {},
   "source": [
    "## Integer Encoding with Feature-Engine"
   ]
  },
  {
   "cell_type": "code",
   "execution_count": 11,
   "metadata": {},
   "outputs": [
    {
     "data": {
      "text/plain": [
       "OrdinalCategoricalEncoder(encoding_method='arbitrary',\n",
       "                          variables=['Mjob', 'Fjob', 'reason', 'guardian',\n",
       "                                     'schoolsup', 'famsup', 'paid',\n",
       "                                     'activities', 'Dalc', 'Walc', 'health'])"
      ]
     },
     "execution_count": 11,
     "metadata": {},
     "output_type": "execute_result"
    }
   ],
   "source": [
    "columns.remove('G3')\n",
    "# in this case I did not select explicitly the variables (variables = columns), \n",
    "# when variable = None, the encoder will automatically identify all \n",
    "#categorical variables.\n",
    "\n",
    "ordinal_enc = OrdinalCategoricalEncoder(\n",
    "    encoding_method='arbitrary',\n",
    "    variables = None)\n",
    "\n",
    "ordinal_enc.fit(X_train)"
   ]
  },
  {
   "cell_type": "code",
   "execution_count": 12,
   "metadata": {
    "scrolled": true
   },
   "outputs": [
    {
     "data": {
      "text/plain": [
       "{'Mjob': {'at_home': 0, 'other': 1, 'teacher': 2, 'services': 3, 'health': 4},\n",
       " 'Fjob': {'at_home': 0, 'other': 1, 'health': 2, 'services': 3, 'teacher': 4},\n",
       " 'reason': {'course': 0, 'reputation': 1, 'home': 2, 'other': 3},\n",
       " 'guardian': {'mother': 0, 'other': 1, 'father': 2},\n",
       " 'schoolsup': {'no': 0, 'yes': 1},\n",
       " 'famsup': {'yes': 0, 'no': 1},\n",
       " 'paid': {'no': 0, 'yes': 1},\n",
       " 'activities': {'yes': 0, 'no': 1},\n",
       " 'Dalc': {1: 0, 3: 1, 2: 2, 5: 3, 4: 4},\n",
       " 'Walc': {4: 0, 1: 1, 5: 2, 2: 3, 3: 4},\n",
       " 'health': {5: 0, 4: 1, 2: 2, 3: 3, 1: 4}}"
      ]
     },
     "execution_count": 12,
     "metadata": {},
     "output_type": "execute_result"
    }
   ],
   "source": [
    "# in the encoder dict we can observe the numbers\n",
    "# assigned to each category for all the indicated variables\n",
    "\n",
    "ordinal_enc.encoder_dict_"
   ]
  },
  {
   "cell_type": "code",
   "execution_count": 13,
   "metadata": {},
   "outputs": [
    {
     "data": {
      "text/html": [
       "<div>\n",
       "<style scoped>\n",
       "    .dataframe tbody tr th:only-of-type {\n",
       "        vertical-align: middle;\n",
       "    }\n",
       "\n",
       "    .dataframe tbody tr th {\n",
       "        vertical-align: top;\n",
       "    }\n",
       "\n",
       "    .dataframe thead th {\n",
       "        text-align: right;\n",
       "    }\n",
       "</style>\n",
       "<table border=\"1\" class=\"dataframe\">\n",
       "  <thead>\n",
       "    <tr style=\"text-align: right;\">\n",
       "      <th></th>\n",
       "      <th>Mjob</th>\n",
       "      <th>Fjob</th>\n",
       "      <th>reason</th>\n",
       "      <th>guardian</th>\n",
       "      <th>schoolsup</th>\n",
       "      <th>famsup</th>\n",
       "      <th>paid</th>\n",
       "      <th>activities</th>\n",
       "      <th>Dalc</th>\n",
       "      <th>Walc</th>\n",
       "      <th>health</th>\n",
       "    </tr>\n",
       "  </thead>\n",
       "  <tbody>\n",
       "    <tr>\n",
       "      <th>561</th>\n",
       "      <td>0</td>\n",
       "      <td>0</td>\n",
       "      <td>0</td>\n",
       "      <td>0</td>\n",
       "      <td>0</td>\n",
       "      <td>0</td>\n",
       "      <td>0</td>\n",
       "      <td>0</td>\n",
       "      <td>0</td>\n",
       "      <td>0</td>\n",
       "      <td>0</td>\n",
       "    </tr>\n",
       "    <tr>\n",
       "      <th>452</th>\n",
       "      <td>1</td>\n",
       "      <td>1</td>\n",
       "      <td>0</td>\n",
       "      <td>0</td>\n",
       "      <td>0</td>\n",
       "      <td>0</td>\n",
       "      <td>0</td>\n",
       "      <td>1</td>\n",
       "      <td>0</td>\n",
       "      <td>1</td>\n",
       "      <td>1</td>\n",
       "    </tr>\n",
       "    <tr>\n",
       "      <th>89</th>\n",
       "      <td>2</td>\n",
       "      <td>2</td>\n",
       "      <td>1</td>\n",
       "      <td>0</td>\n",
       "      <td>0</td>\n",
       "      <td>0</td>\n",
       "      <td>0</td>\n",
       "      <td>1</td>\n",
       "      <td>1</td>\n",
       "      <td>2</td>\n",
       "      <td>0</td>\n",
       "    </tr>\n",
       "    <tr>\n",
       "      <th>299</th>\n",
       "      <td>1</td>\n",
       "      <td>1</td>\n",
       "      <td>0</td>\n",
       "      <td>1</td>\n",
       "      <td>0</td>\n",
       "      <td>0</td>\n",
       "      <td>1</td>\n",
       "      <td>0</td>\n",
       "      <td>0</td>\n",
       "      <td>3</td>\n",
       "      <td>2</td>\n",
       "    </tr>\n",
       "    <tr>\n",
       "      <th>231</th>\n",
       "      <td>3</td>\n",
       "      <td>2</td>\n",
       "      <td>2</td>\n",
       "      <td>2</td>\n",
       "      <td>0</td>\n",
       "      <td>0</td>\n",
       "      <td>0</td>\n",
       "      <td>1</td>\n",
       "      <td>2</td>\n",
       "      <td>0</td>\n",
       "      <td>1</td>\n",
       "    </tr>\n",
       "  </tbody>\n",
       "</table>\n",
       "</div>"
      ],
      "text/plain": [
       "     Mjob  Fjob  reason  guardian  schoolsup  famsup  paid  activities  Dalc  \\\n",
       "561     0     0       0         0          0       0     0           0     0   \n",
       "452     1     1       0         0          0       0     0           1     0   \n",
       "89      2     2       1         0          0       0     0           1     1   \n",
       "299     1     1       0         1          0       0     1           0     0   \n",
       "231     3     2       2         2          0       0     0           1     2   \n",
       "\n",
       "     Walc  health  \n",
       "561     0       0  \n",
       "452     1       1  \n",
       "89      2       0  \n",
       "299     3       2  \n",
       "231     0       1  "
      ]
     },
     "execution_count": 13,
     "metadata": {},
     "output_type": "execute_result"
    }
   ],
   "source": [
    "X_train = ordinal_enc.transform(X_train)\n",
    "X_test = ordinal_enc.transform(X_test)\n",
    "\n",
    "# let's explore the result\n",
    "X_train.head()"
   ]
  },
  {
   "cell_type": "markdown",
   "metadata": {},
   "source": [
    "**Note**\n",
    "\n",
    "If the argument variables is left to None, then the encoder will automatically identify all categorical variables. Is that not sweet?\n",
    "\n",
    "The encoder will not encode numerical variables. So if some of your numerical variables are in fact categories, you will need to re-cast them as object before using the encoder.\n",
    "\n",
    "Note, if there is a variable in the test set, for which the encoder doesn't have a number to assigned (the category was not seen in the train set), the encoder will return an error."
   ]
  },
  {
   "cell_type": "code",
   "execution_count": null,
   "metadata": {},
   "outputs": [],
   "source": []
  },
  {
   "cell_type": "code",
   "execution_count": null,
   "metadata": {},
   "outputs": [],
   "source": []
  },
  {
   "cell_type": "code",
   "execution_count": null,
   "metadata": {},
   "outputs": [],
   "source": []
  },
  {
   "cell_type": "code",
   "execution_count": null,
   "metadata": {},
   "outputs": [],
   "source": []
  }
 ],
 "metadata": {
  "kernelspec": {
   "display_name": "Python 3",
   "language": "python",
   "name": "python3"
  },
  "language_info": {
   "codemirror_mode": {
    "name": "ipython",
    "version": 3
   },
   "file_extension": ".py",
   "mimetype": "text/x-python",
   "name": "python",
   "nbconvert_exporter": "python",
   "pygments_lexer": "ipython3",
   "version": "3.7.4"
  }
 },
 "nbformat": 4,
 "nbformat_minor": 2
}
