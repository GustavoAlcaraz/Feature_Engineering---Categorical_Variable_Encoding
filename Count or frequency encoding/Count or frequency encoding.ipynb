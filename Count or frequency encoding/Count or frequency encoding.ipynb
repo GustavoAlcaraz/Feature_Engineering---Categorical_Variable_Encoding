{
 "cells": [
  {
   "cell_type": "markdown",
   "metadata": {},
   "source": [
    "## Count or frequency encoding\n",
    "\n",
    "In count encoding we replace the categories by the count of the observations that show that category in the dataset. Similarly, we can replace the category by the frequency -or percentage- of observations in the dataset. That is, if 10 of our 100 observations show the colour blue, we would replace blue by 10 if doing count encoding, or by 0.1 if replacing by the frequency. These techniques capture the representation of each label in a dataset, but the encoding may not necessarily be predictive of the outcome. These are however, very popular encoding methods in Kaggle competitions.\n",
    "\n",
    "The assumption of this technique is that the number observations shown by each variable is somewhat informative of the predictive power of the category.\n",
    "\n",
    "\n",
    "### Advantages\n",
    "\n",
    "- Simple\n",
    "- Does not expand the feature space\n",
    "\n",
    "### Disadvantages\n",
    "\n",
    "- If 2 different categories appear the same amount of times in the dataset, that is, they appear in the same number of observations, they will be replaced by the same number: may lose valuable information.\n",
    "\n",
    "For example, if there are 10 observations for the category blue and 10 observations for the category red, both will be replaced by 10, and therefore, after the encoding, will appear to be the same thing. \n",
    "\n",
    "\n",
    "Follow this [thread in Kaggle](https://www.kaggle.com/general/16927) for more information.\n",
    "\n",
    "\n",
    "\n",
    "## In this demo:\n",
    "\n",
    "We will see how to perform count or frequency encoding with:\n",
    "- pandas\n",
    "- Feature-Engine\n"
   ]
  },
  {
   "cell_type": "code",
   "execution_count": 1,
   "metadata": {},
   "outputs": [],
   "source": [
    "import numpy as np\n",
    "import pandas as pd\n",
    "\n",
    "# to split the datasets\n",
    "from sklearn.model_selection import train_test_split\n",
    "\n",
    "# to encode with feature-engine\n",
    "from feature_engine.categorical_encoders import CountFrequencyCategoricalEncoder"
   ]
  },
  {
   "cell_type": "markdown",
   "metadata": {},
   "source": [
    "# Dataset\n",
    "This data approach student achievement in secondary education of two Portuguese schools. \n",
    "The data attributes include student grades, demographic, social and school related features) \n",
    "and it was collected by using school reports and questionnaires.\n",
    "the target, G3 is the final year grade (issued at the 3rd period)\n"
   ]
  },
  {
   "cell_type": "code",
   "execution_count": 2,
   "metadata": {},
   "outputs": [],
   "source": [
    "columns = [ 'Mjob', 'Fjob', 'reason', 'guardian', 'schoolsup', 'famsup', 'paid', 'activities',\n",
    "             'Dalc', 'Walc' , 'health', 'G3']\n",
    "data_raw = pd.read_csv('C:\\\\Users\\gusal\\machine learning\\Feature engineering\\student-por.csv', delimiter= ';' ,usecols = columns)"
   ]
  },
  {
   "cell_type": "code",
   "execution_count": 3,
   "metadata": {},
   "outputs": [
    {
     "data": {
      "text/html": [
       "<div>\n",
       "<style scoped>\n",
       "    .dataframe tbody tr th:only-of-type {\n",
       "        vertical-align: middle;\n",
       "    }\n",
       "\n",
       "    .dataframe tbody tr th {\n",
       "        vertical-align: top;\n",
       "    }\n",
       "\n",
       "    .dataframe thead th {\n",
       "        text-align: right;\n",
       "    }\n",
       "</style>\n",
       "<table border=\"1\" class=\"dataframe\">\n",
       "  <thead>\n",
       "    <tr style=\"text-align: right;\">\n",
       "      <th></th>\n",
       "      <th>Mjob</th>\n",
       "      <th>Fjob</th>\n",
       "      <th>reason</th>\n",
       "      <th>guardian</th>\n",
       "      <th>schoolsup</th>\n",
       "      <th>famsup</th>\n",
       "      <th>paid</th>\n",
       "      <th>activities</th>\n",
       "      <th>Dalc</th>\n",
       "      <th>Walc</th>\n",
       "      <th>health</th>\n",
       "      <th>G3</th>\n",
       "    </tr>\n",
       "  </thead>\n",
       "  <tbody>\n",
       "    <tr>\n",
       "      <th>0</th>\n",
       "      <td>at_home</td>\n",
       "      <td>teacher</td>\n",
       "      <td>course</td>\n",
       "      <td>mother</td>\n",
       "      <td>yes</td>\n",
       "      <td>no</td>\n",
       "      <td>no</td>\n",
       "      <td>no</td>\n",
       "      <td>1</td>\n",
       "      <td>1</td>\n",
       "      <td>3</td>\n",
       "      <td>11</td>\n",
       "    </tr>\n",
       "    <tr>\n",
       "      <th>1</th>\n",
       "      <td>at_home</td>\n",
       "      <td>other</td>\n",
       "      <td>course</td>\n",
       "      <td>father</td>\n",
       "      <td>no</td>\n",
       "      <td>yes</td>\n",
       "      <td>no</td>\n",
       "      <td>no</td>\n",
       "      <td>1</td>\n",
       "      <td>1</td>\n",
       "      <td>3</td>\n",
       "      <td>11</td>\n",
       "    </tr>\n",
       "    <tr>\n",
       "      <th>2</th>\n",
       "      <td>at_home</td>\n",
       "      <td>other</td>\n",
       "      <td>other</td>\n",
       "      <td>mother</td>\n",
       "      <td>yes</td>\n",
       "      <td>no</td>\n",
       "      <td>no</td>\n",
       "      <td>no</td>\n",
       "      <td>2</td>\n",
       "      <td>3</td>\n",
       "      <td>3</td>\n",
       "      <td>12</td>\n",
       "    </tr>\n",
       "    <tr>\n",
       "      <th>3</th>\n",
       "      <td>health</td>\n",
       "      <td>services</td>\n",
       "      <td>home</td>\n",
       "      <td>mother</td>\n",
       "      <td>no</td>\n",
       "      <td>yes</td>\n",
       "      <td>no</td>\n",
       "      <td>yes</td>\n",
       "      <td>1</td>\n",
       "      <td>1</td>\n",
       "      <td>5</td>\n",
       "      <td>14</td>\n",
       "    </tr>\n",
       "    <tr>\n",
       "      <th>4</th>\n",
       "      <td>other</td>\n",
       "      <td>other</td>\n",
       "      <td>home</td>\n",
       "      <td>father</td>\n",
       "      <td>no</td>\n",
       "      <td>yes</td>\n",
       "      <td>no</td>\n",
       "      <td>no</td>\n",
       "      <td>1</td>\n",
       "      <td>2</td>\n",
       "      <td>5</td>\n",
       "      <td>13</td>\n",
       "    </tr>\n",
       "  </tbody>\n",
       "</table>\n",
       "</div>"
      ],
      "text/plain": [
       "      Mjob      Fjob  reason guardian schoolsup famsup paid activities  Dalc  \\\n",
       "0  at_home   teacher  course   mother       yes     no   no         no     1   \n",
       "1  at_home     other  course   father        no    yes   no         no     1   \n",
       "2  at_home     other   other   mother       yes     no   no         no     2   \n",
       "3   health  services    home   mother        no    yes   no        yes     1   \n",
       "4    other     other    home   father        no    yes   no         no     1   \n",
       "\n",
       "   Walc  health  G3  \n",
       "0     1       3  11  \n",
       "1     1       3  11  \n",
       "2     3       3  12  \n",
       "3     1       5  14  \n",
       "4     2       5  13  "
      ]
     },
     "execution_count": 3,
     "metadata": {},
     "output_type": "execute_result"
    }
   ],
   "source": [
    "data_raw.head(5)"
   ]
  },
  {
   "cell_type": "code",
   "execution_count": 4,
   "metadata": {},
   "outputs": [
    {
     "data": {
      "text/plain": [
       "Mjob          object\n",
       "Fjob          object\n",
       "reason        object\n",
       "guardian      object\n",
       "schoolsup     object\n",
       "famsup        object\n",
       "paid          object\n",
       "activities    object\n",
       "Dalc           int64\n",
       "Walc           int64\n",
       "health         int64\n",
       "G3             int64\n",
       "dtype: object"
      ]
     },
     "execution_count": 4,
     "metadata": {},
     "output_type": "execute_result"
    }
   ],
   "source": [
    "data_raw.dtypes"
   ]
  },
  {
   "cell_type": "markdown",
   "metadata": {},
   "source": [
    "'Dalc', 'Walc' , 'health' are categorical variables, but are taken as numerical, therefore they have to be re-cast"
   ]
  },
  {
   "cell_type": "code",
   "execution_count": 5,
   "metadata": {},
   "outputs": [],
   "source": [
    "data_raw.Dalc = data_raw.Dalc.astype(object)\n",
    "data_raw.Walc = data_raw.Walc.astype(object)\n",
    "data_raw.health = data_raw.health.astype(object)\n"
   ]
  },
  {
   "cell_type": "code",
   "execution_count": 6,
   "metadata": {},
   "outputs": [
    {
     "data": {
      "text/plain": [
       "Mjob          object\n",
       "Fjob          object\n",
       "reason        object\n",
       "guardian      object\n",
       "schoolsup     object\n",
       "famsup        object\n",
       "paid          object\n",
       "activities    object\n",
       "Dalc          object\n",
       "Walc          object\n",
       "health        object\n",
       "G3             int64\n",
       "dtype: object"
      ]
     },
     "execution_count": 6,
     "metadata": {},
     "output_type": "execute_result"
    }
   ],
   "source": [
    "data_raw.dtypes"
   ]
  },
  {
   "cell_type": "code",
   "execution_count": 7,
   "metadata": {},
   "outputs": [
    {
     "name": "stdout",
     "output_type": "stream",
     "text": [
      "Mjob :  5  labels\n",
      "Fjob :  5  labels\n",
      "reason :  4  labels\n",
      "guardian :  3  labels\n",
      "schoolsup :  2  labels\n",
      "famsup :  2  labels\n",
      "paid :  2  labels\n",
      "activities :  2  labels\n",
      "Dalc :  5  labels\n",
      "Walc :  5  labels\n",
      "health :  5  labels\n",
      "G3 :  17  labels\n"
     ]
    }
   ],
   "source": [
    "# let's have a look at how many labels each variable has\n",
    "\n",
    "for col in data_raw.columns:\n",
    "    print(col, ': ', len(data_raw[col].unique()), ' labels')"
   ]
  },
  {
   "cell_type": "markdown",
   "metadata": {},
   "source": [
    "# Counting the items per each label"
   ]
  },
  {
   "cell_type": "markdown",
   "metadata": {},
   "source": [
    "### Important\n",
    "\n",
    "When doing count transformation of categorical variables, it is important to calculate the count (or frequency = count / total observations) **over the training set**, and then use those numbers to replace the labels in the test set."
   ]
  },
  {
   "cell_type": "code",
   "execution_count": 8,
   "metadata": {},
   "outputs": [],
   "source": [
    "inputs = data_raw.drop(['G3'], axis = 1)\n",
    "target = data_raw.G3"
   ]
  },
  {
   "cell_type": "code",
   "execution_count": 9,
   "metadata": {},
   "outputs": [
    {
     "data": {
      "text/plain": [
       "((454, 11), (195, 11))"
      ]
     },
     "execution_count": 9,
     "metadata": {},
     "output_type": "execute_result"
    }
   ],
   "source": [
    "# let's separate into training and testing set\n",
    "\n",
    "X_train, X_test, y_train, y_test = train_test_split(\n",
    "    inputs, # predictors\n",
    "    target,  # target\n",
    "    test_size=0.3,  # percentage of obs in test set\n",
    "    random_state=0)  # seed to ensure reproducibility\n",
    "\n",
    "X_train.shape, X_test.shape"
   ]
  },
  {
   "cell_type": "code",
   "execution_count": 11,
   "metadata": {
    "collapsed": true
   },
   "outputs": [
    {
     "name": "stdout",
     "output_type": "stream",
     "text": [
      "Mjob :\n",
      "  other       180\n",
      "services     99\n",
      "at_home      91\n",
      "teacher      49\n",
      "health       35\n",
      "Name: Mjob, dtype: int64 \n",
      " \n",
      "Fjob :\n",
      "  other       253\n",
      "services    126\n",
      "at_home      32\n",
      "teacher      26\n",
      "health       17\n",
      "Name: Fjob, dtype: int64 \n",
      " \n",
      "reason :\n",
      "  course        203\n",
      "home          103\n",
      "reputation     99\n",
      "other          49\n",
      "Name: reason, dtype: int64 \n",
      " \n",
      "guardian :\n",
      "  mother    326\n",
      "father    103\n",
      "other      25\n",
      "Name: guardian, dtype: int64 \n",
      " \n",
      "schoolsup :\n",
      "  no     405\n",
      "yes     49\n",
      "Name: schoolsup, dtype: int64 \n",
      " \n",
      "famsup :\n",
      "  yes    282\n",
      "no     172\n",
      "Name: famsup, dtype: int64 \n",
      " \n",
      "paid :\n",
      "  no     430\n",
      "yes     24\n",
      "Name: paid, dtype: int64 \n",
      " \n",
      "activities :\n",
      "  no     230\n",
      "yes    224\n",
      "Name: activities, dtype: int64 \n",
      " \n",
      "Dalc :\n",
      "  1    314\n",
      "2     85\n",
      "3     32\n",
      "5     12\n",
      "4     11\n",
      "Name: Dalc, dtype: int64 \n",
      " \n",
      "Walc :\n",
      "  1    171\n",
      "2    105\n",
      "3     84\n",
      "4     65\n",
      "5     29\n",
      "Name: Walc, dtype: int64 \n",
      " \n",
      "health :\n",
      "  5    179\n",
      "3     85\n",
      "4     80\n",
      "1     62\n",
      "2     48\n",
      "Name: health, dtype: int64 \n",
      " \n"
     ]
    }
   ],
   "source": [
    "\n",
    "for col in X_train.columns:\n",
    "    print(col, ':\\n ', X_train[col].value_counts().sort_values(ascending=False),'\\n ')"
   ]
  },
  {
   "cell_type": "markdown",
   "metadata": {},
   "source": [
    "# replace the labels with the counts\n"
   ]
  },
  {
   "cell_type": "code",
   "execution_count": 12,
   "metadata": {},
   "outputs": [
    {
     "name": "stderr",
     "output_type": "stream",
     "text": [
      "C:\\Users\\gusal\\Anaconda3\\lib\\site-packages\\ipykernel_launcher.py:5: SettingWithCopyWarning: \n",
      "A value is trying to be set on a copy of a slice from a DataFrame.\n",
      "Try using .loc[row_indexer,col_indexer] = value instead\n",
      "\n",
      "See the caveats in the documentation: https://pandas.pydata.org/pandas-docs/stable/user_guide/indexing.html#returning-a-view-versus-a-copy\n",
      "  \"\"\"\n",
      "C:\\Users\\gusal\\Anaconda3\\lib\\site-packages\\ipykernel_launcher.py:6: SettingWithCopyWarning: \n",
      "A value is trying to be set on a copy of a slice from a DataFrame.\n",
      "Try using .loc[row_indexer,col_indexer] = value instead\n",
      "\n",
      "See the caveats in the documentation: https://pandas.pydata.org/pandas-docs/stable/user_guide/indexing.html#returning-a-view-versus-a-copy\n",
      "  \n"
     ]
    }
   ],
   "source": [
    "\n",
    "# let's obtain the counts for each one of the labels\n",
    "# in the variable Neigbourhood\n",
    "for col in inputs.columns:\n",
    "    count_map = X_train[col].value_counts().to_dict()\n",
    "    X_train[col] = X_train[col].map(count_map)\n",
    "    X_test[col] = X_test[col].map(count_map)\n"
   ]
  },
  {
   "cell_type": "code",
   "execution_count": 14,
   "metadata": {},
   "outputs": [
    {
     "data": {
      "text/html": [
       "<div>\n",
       "<style scoped>\n",
       "    .dataframe tbody tr th:only-of-type {\n",
       "        vertical-align: middle;\n",
       "    }\n",
       "\n",
       "    .dataframe tbody tr th {\n",
       "        vertical-align: top;\n",
       "    }\n",
       "\n",
       "    .dataframe thead th {\n",
       "        text-align: right;\n",
       "    }\n",
       "</style>\n",
       "<table border=\"1\" class=\"dataframe\">\n",
       "  <thead>\n",
       "    <tr style=\"text-align: right;\">\n",
       "      <th></th>\n",
       "      <th>Mjob</th>\n",
       "      <th>Fjob</th>\n",
       "      <th>reason</th>\n",
       "      <th>guardian</th>\n",
       "      <th>schoolsup</th>\n",
       "      <th>famsup</th>\n",
       "      <th>paid</th>\n",
       "      <th>activities</th>\n",
       "      <th>Dalc</th>\n",
       "      <th>Walc</th>\n",
       "      <th>health</th>\n",
       "    </tr>\n",
       "  </thead>\n",
       "  <tbody>\n",
       "    <tr>\n",
       "      <th>561</th>\n",
       "      <td>91</td>\n",
       "      <td>32</td>\n",
       "      <td>203</td>\n",
       "      <td>326</td>\n",
       "      <td>405</td>\n",
       "      <td>282</td>\n",
       "      <td>430</td>\n",
       "      <td>224</td>\n",
       "      <td>314</td>\n",
       "      <td>65</td>\n",
       "      <td>179</td>\n",
       "    </tr>\n",
       "    <tr>\n",
       "      <th>452</th>\n",
       "      <td>180</td>\n",
       "      <td>253</td>\n",
       "      <td>203</td>\n",
       "      <td>326</td>\n",
       "      <td>405</td>\n",
       "      <td>282</td>\n",
       "      <td>430</td>\n",
       "      <td>230</td>\n",
       "      <td>314</td>\n",
       "      <td>171</td>\n",
       "      <td>80</td>\n",
       "    </tr>\n",
       "    <tr>\n",
       "      <th>89</th>\n",
       "      <td>49</td>\n",
       "      <td>17</td>\n",
       "      <td>99</td>\n",
       "      <td>326</td>\n",
       "      <td>405</td>\n",
       "      <td>282</td>\n",
       "      <td>430</td>\n",
       "      <td>230</td>\n",
       "      <td>32</td>\n",
       "      <td>29</td>\n",
       "      <td>179</td>\n",
       "    </tr>\n",
       "    <tr>\n",
       "      <th>299</th>\n",
       "      <td>180</td>\n",
       "      <td>253</td>\n",
       "      <td>203</td>\n",
       "      <td>25</td>\n",
       "      <td>405</td>\n",
       "      <td>282</td>\n",
       "      <td>24</td>\n",
       "      <td>224</td>\n",
       "      <td>314</td>\n",
       "      <td>105</td>\n",
       "      <td>48</td>\n",
       "    </tr>\n",
       "    <tr>\n",
       "      <th>231</th>\n",
       "      <td>99</td>\n",
       "      <td>17</td>\n",
       "      <td>103</td>\n",
       "      <td>103</td>\n",
       "      <td>405</td>\n",
       "      <td>282</td>\n",
       "      <td>430</td>\n",
       "      <td>230</td>\n",
       "      <td>85</td>\n",
       "      <td>65</td>\n",
       "      <td>80</td>\n",
       "    </tr>\n",
       "  </tbody>\n",
       "</table>\n",
       "</div>"
      ],
      "text/plain": [
       "     Mjob  Fjob  reason  guardian  schoolsup  famsup  paid  activities  Dalc  \\\n",
       "561    91    32     203       326        405     282   430         224   314   \n",
       "452   180   253     203       326        405     282   430         230   314   \n",
       "89     49    17      99       326        405     282   430         230    32   \n",
       "299   180   253     203        25        405     282    24         224   314   \n",
       "231    99    17     103       103        405     282   430         230    85   \n",
       "\n",
       "     Walc  health  \n",
       "561    65     179  \n",
       "452   171      80  \n",
       "89     29     179  \n",
       "299   105      48  \n",
       "231    65      80  "
      ]
     },
     "execution_count": 14,
     "metadata": {},
     "output_type": "execute_result"
    }
   ],
   "source": [
    "X_train.head()"
   ]
  },
  {
   "cell_type": "markdown",
   "metadata": {},
   "source": [
    "# if instead of the count we would like the frequency\n",
    "# we need only divide the count by the total number of observations"
   ]
  },
  {
   "cell_type": "markdown",
   "metadata": {},
   "source": [
    "\n",
    "## Count or Frequency Encoding with Feature-Engine"
   ]
  },
  {
   "cell_type": "code",
   "execution_count": 16,
   "metadata": {},
   "outputs": [
    {
     "data": {
      "text/plain": [
       "((454, 11), (195, 11))"
      ]
     },
     "execution_count": 16,
     "metadata": {},
     "output_type": "execute_result"
    }
   ],
   "source": [
    "# let's separate into training and testing set\n",
    "\n",
    "X_train, X_test, y_train, y_test = train_test_split(\n",
    "    inputs, # predictors\n",
    "    target,  # target\n",
    "    test_size=0.3,  # percentage of obs in test set\n",
    "    random_state=0)  # seed to ensure reproducibility\n",
    "\n",
    "X_train.shape, X_test.shape"
   ]
  },
  {
   "cell_type": "code",
   "execution_count": 17,
   "metadata": {},
   "outputs": [
    {
     "data": {
      "text/plain": [
       "CountFrequencyCategoricalEncoder(encoding_method='count',\n",
       "                                 variables=['Mjob', 'Fjob', 'reason',\n",
       "                                            'guardian', 'schoolsup', 'famsup',\n",
       "                                            'paid', 'activities', 'Dalc',\n",
       "                                            'Walc', 'health'])"
      ]
     },
     "execution_count": 17,
     "metadata": {},
     "output_type": "execute_result"
    }
   ],
   "source": [
    "count_enc = CountFrequencyCategoricalEncoder(\n",
    "    encoding_method='count', # to do frequency ==> encoding_method='frequency'\n",
    "    variables=None)\n",
    "\n",
    "count_enc.fit(X_train)"
   ]
  },
  {
   "cell_type": "code",
   "execution_count": 18,
   "metadata": {
    "scrolled": true
   },
   "outputs": [
    {
     "data": {
      "text/plain": [
       "{'Mjob': {'other': 180,\n",
       "  'services': 99,\n",
       "  'at_home': 91,\n",
       "  'teacher': 49,\n",
       "  'health': 35},\n",
       " 'Fjob': {'other': 253,\n",
       "  'services': 126,\n",
       "  'at_home': 32,\n",
       "  'teacher': 26,\n",
       "  'health': 17},\n",
       " 'reason': {'course': 203, 'home': 103, 'reputation': 99, 'other': 49},\n",
       " 'guardian': {'mother': 326, 'father': 103, 'other': 25},\n",
       " 'schoolsup': {'no': 405, 'yes': 49},\n",
       " 'famsup': {'yes': 282, 'no': 172},\n",
       " 'paid': {'no': 430, 'yes': 24},\n",
       " 'activities': {'no': 230, 'yes': 224},\n",
       " 'Dalc': {1: 314, 2: 85, 3: 32, 5: 12, 4: 11},\n",
       " 'Walc': {1: 171, 2: 105, 3: 84, 4: 65, 5: 29},\n",
       " 'health': {5: 179, 3: 85, 4: 80, 1: 62, 2: 48}}"
      ]
     },
     "execution_count": 18,
     "metadata": {},
     "output_type": "execute_result"
    }
   ],
   "source": [
    "# in the encoder dict we can observe the number of \n",
    "# observations per category for each variable\n",
    "\n",
    "count_enc.encoder_dict_"
   ]
  },
  {
   "cell_type": "code",
   "execution_count": 19,
   "metadata": {},
   "outputs": [
    {
     "data": {
      "text/html": [
       "<div>\n",
       "<style scoped>\n",
       "    .dataframe tbody tr th:only-of-type {\n",
       "        vertical-align: middle;\n",
       "    }\n",
       "\n",
       "    .dataframe tbody tr th {\n",
       "        vertical-align: top;\n",
       "    }\n",
       "\n",
       "    .dataframe thead th {\n",
       "        text-align: right;\n",
       "    }\n",
       "</style>\n",
       "<table border=\"1\" class=\"dataframe\">\n",
       "  <thead>\n",
       "    <tr style=\"text-align: right;\">\n",
       "      <th></th>\n",
       "      <th>Mjob</th>\n",
       "      <th>Fjob</th>\n",
       "      <th>reason</th>\n",
       "      <th>guardian</th>\n",
       "      <th>schoolsup</th>\n",
       "      <th>famsup</th>\n",
       "      <th>paid</th>\n",
       "      <th>activities</th>\n",
       "      <th>Dalc</th>\n",
       "      <th>Walc</th>\n",
       "      <th>health</th>\n",
       "    </tr>\n",
       "  </thead>\n",
       "  <tbody>\n",
       "    <tr>\n",
       "      <th>561</th>\n",
       "      <td>91</td>\n",
       "      <td>32</td>\n",
       "      <td>203</td>\n",
       "      <td>326</td>\n",
       "      <td>405</td>\n",
       "      <td>282</td>\n",
       "      <td>430</td>\n",
       "      <td>224</td>\n",
       "      <td>314</td>\n",
       "      <td>65</td>\n",
       "      <td>179</td>\n",
       "    </tr>\n",
       "    <tr>\n",
       "      <th>452</th>\n",
       "      <td>180</td>\n",
       "      <td>253</td>\n",
       "      <td>203</td>\n",
       "      <td>326</td>\n",
       "      <td>405</td>\n",
       "      <td>282</td>\n",
       "      <td>430</td>\n",
       "      <td>230</td>\n",
       "      <td>314</td>\n",
       "      <td>171</td>\n",
       "      <td>80</td>\n",
       "    </tr>\n",
       "    <tr>\n",
       "      <th>89</th>\n",
       "      <td>49</td>\n",
       "      <td>17</td>\n",
       "      <td>99</td>\n",
       "      <td>326</td>\n",
       "      <td>405</td>\n",
       "      <td>282</td>\n",
       "      <td>430</td>\n",
       "      <td>230</td>\n",
       "      <td>32</td>\n",
       "      <td>29</td>\n",
       "      <td>179</td>\n",
       "    </tr>\n",
       "    <tr>\n",
       "      <th>299</th>\n",
       "      <td>180</td>\n",
       "      <td>253</td>\n",
       "      <td>203</td>\n",
       "      <td>25</td>\n",
       "      <td>405</td>\n",
       "      <td>282</td>\n",
       "      <td>24</td>\n",
       "      <td>224</td>\n",
       "      <td>314</td>\n",
       "      <td>105</td>\n",
       "      <td>48</td>\n",
       "    </tr>\n",
       "    <tr>\n",
       "      <th>231</th>\n",
       "      <td>99</td>\n",
       "      <td>17</td>\n",
       "      <td>103</td>\n",
       "      <td>103</td>\n",
       "      <td>405</td>\n",
       "      <td>282</td>\n",
       "      <td>430</td>\n",
       "      <td>230</td>\n",
       "      <td>85</td>\n",
       "      <td>65</td>\n",
       "      <td>80</td>\n",
       "    </tr>\n",
       "  </tbody>\n",
       "</table>\n",
       "</div>"
      ],
      "text/plain": [
       "     Mjob  Fjob  reason  guardian  schoolsup  famsup  paid  activities  Dalc  \\\n",
       "561    91    32     203       326        405     282   430         224   314   \n",
       "452   180   253     203       326        405     282   430         230   314   \n",
       "89     49    17      99       326        405     282   430         230    32   \n",
       "299   180   253     203        25        405     282    24         224   314   \n",
       "231    99    17     103       103        405     282   430         230    85   \n",
       "\n",
       "     Walc  health  \n",
       "561    65     179  \n",
       "452   171      80  \n",
       "89     29     179  \n",
       "299   105      48  \n",
       "231    65      80  "
      ]
     },
     "execution_count": 19,
     "metadata": {},
     "output_type": "execute_result"
    }
   ],
   "source": [
    "X_train = count_enc.transform(X_train)\n",
    "X_test = count_enc.transform(X_test)\n",
    "\n",
    "# let's explore the result\n",
    "X_train.head()"
   ]
  },
  {
   "cell_type": "markdown",
   "metadata": {},
   "source": [
    "**Note**\n",
    "\n",
    "If the argument variables is left to None, then the encoder will automatically identify all categorical variables. Is that not sweet?\n",
    "\n",
    "The encoder will not encode numerical variables. So if some of your numerical variables are in fact categories, you will need to re-cast them as object before using the encoder.\n",
    "\n",
    "Note, if there is a variable in the test set, for which the encoder doesn't have a number to assigned (the category was not seen in the train set), the encoder will return an error."
   ]
  },
  {
   "cell_type": "code",
   "execution_count": null,
   "metadata": {},
   "outputs": [],
   "source": []
  },
  {
   "cell_type": "code",
   "execution_count": null,
   "metadata": {},
   "outputs": [],
   "source": []
  },
  {
   "cell_type": "code",
   "execution_count": null,
   "metadata": {},
   "outputs": [],
   "source": []
  }
 ],
 "metadata": {
  "kernelspec": {
   "display_name": "Python 3",
   "language": "python",
   "name": "python3"
  },
  "language_info": {
   "codemirror_mode": {
    "name": "ipython",
    "version": 3
   },
   "file_extension": ".py",
   "mimetype": "text/x-python",
   "name": "python",
   "nbconvert_exporter": "python",
   "pygments_lexer": "ipython3",
   "version": "3.7.4"
  }
 },
 "nbformat": 4,
 "nbformat_minor": 2
}
